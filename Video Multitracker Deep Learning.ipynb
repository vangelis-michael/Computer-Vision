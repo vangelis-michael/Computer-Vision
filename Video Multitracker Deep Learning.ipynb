{
 "cells": [
  {
   "cell_type": "code",
   "execution_count": 1,
   "metadata": {},
   "outputs": [],
   "source": [
    "# Import some important libraries for computer vision\n",
    "from __future__ import print_function\n",
    "import sys\n",
    "import cv2\n",
    "from random import randint\n",
    " \n",
    "# Create a function for various trackers\n",
    "trackerTypes = ['BOOSTING', 'MIL', 'KCF','TLD', 'MEDIANFLOW', 'GOTURN', 'MOSSE', 'CSRT']\n",
    " \n",
    "def createTrackerByName(trackerType):\n",
    "    # Create a tracker based on tracker name\n",
    "    if trackerType == trackerTypes[0]:\n",
    "        tracker = cv2.TrackerBoosting_create()\n",
    "    elif trackerType == trackerTypes[1]: \n",
    "        tracker = cv2.TrackerMIL_create()\n",
    "    elif trackerType == trackerTypes[2]:\n",
    "        tracker = cv2.TrackerKCF_create()\n",
    "    elif trackerType == trackerTypes[3]:\n",
    "        tracker = cv2.TrackerTLD_create()\n",
    "    elif trackerType == trackerTypes[4]:\n",
    "        tracker = cv2.TrackerMedianFlow_create()\n",
    "    elif trackerType == trackerTypes[5]:\n",
    "        tracker = cv2.TrackerGOTURN_create()\n",
    "    elif trackerType == trackerTypes[6]:\n",
    "        tracker = cv2.TrackerMOSSE_create()\n",
    "    elif trackerType == trackerTypes[7]:\n",
    "        tracker = cv2.TrackerCSRT_create()\n",
    "    else:\n",
    "        tracker = None\n",
    "        print('Incorrect tracker name')\n",
    "        print('Available trackers are:')\n",
    "        for t in trackerTypes:\n",
    "            print(t)\n",
    "    \n",
    "    return tracker"
   ]
  },
  {
   "cell_type": "code",
   "execution_count": 2,
   "metadata": {},
   "outputs": [],
   "source": [
    "# Set video to load\n",
    "videoPath = \"Insta.mp4\" # input the path to a video on machine for a static video or a streaming video.\n",
    " \n",
    "# Create a video capture object to read videos\n",
    "cap = cv2.VideoCapture(videoPath)\n",
    " \n",
    "# Read first frame\n",
    "success, frame = cap.read()\n",
    "# quit if unable to read the video file\n",
    "if not success:\n",
    "    print('Failed to read video')\n",
    "    sys.exit(1)"
   ]
  },
  {
   "cell_type": "code",
   "execution_count": null,
   "metadata": {},
   "outputs": [
    {
     "name": "stdout",
     "output_type": "stream",
     "text": [
      "Press q to quit selecting boxes and start tracking\n",
      "Press any other key to select next object\n",
      "Press q to quit selecting boxes and start tracking\n",
      "Press any other key to select next object\n",
      "Press q to quit selecting boxes and start tracking\n",
      "Press any other key to select next object\n",
      "Press q to quit selecting boxes and start tracking\n",
      "Press any other key to select next object\n",
      "Press q to quit selecting boxes and start tracking\n",
      "Press any other key to select next object\n",
      "Press q to quit selecting boxes and start tracking\n",
      "Press any other key to select next object\n"
     ]
    }
   ],
   "source": [
    "## Select boxes\n",
    "bboxes = []\n",
    "colors = [] \n",
    " \n",
    "# OpenCV's selectROI function doesn't work for selecting multiple objects in Python\n",
    "# So we will call this function in a loop till we are done selecting all objects\n",
    "%matplotlib inline\n",
    "while True:\n",
    "    # draw bounding boxes over objects\n",
    "    # selectROI's default behaviour is to draw box starting from the center\n",
    "    # when fromCenter is set to false, you can draw box starting from top left corner\n",
    "    bbox = cv2.selectROI('MultiTracker', frame)\n",
    "    bboxes.append(bbox)\n",
    "    colors.append((randint(0, 255), randint(0, 255), randint(0, 255)))\n",
    "    print(\"Press q to quit selecting boxes and start tracking\")\n",
    "    print(\"Press any other key to select next object\")\n",
    "    k = cv2.waitKey(0) & 0xFF\n",
    "    if (k == 113):  # q is pressed\n",
    "        break\n",
    "\n",
    "print('Selected bounding boxes {}'.format(bboxes))"
   ]
  },
  {
   "cell_type": "code",
   "execution_count": null,
   "metadata": {},
   "outputs": [],
   "source": [
    "# Specify the tracker type\n",
    "trackerType = \"CSRT\"   \n",
    " \n",
    "# Create MultiTracker object\n",
    "multiTracker = cv2.MultiTracker_create()\n",
    " \n",
    "# Initialize MultiTracker \n",
    "for bbox in bboxes:\n",
    "    multiTracker.add(createTrackerByName(trackerType), frame, bbox)"
   ]
  },
  {
   "cell_type": "code",
   "execution_count": null,
   "metadata": {},
   "outputs": [],
   "source": [
    "# Process video and track objects\n",
    "while cap.isOpened():\n",
    "    success, frame = cap.read()  \n",
    "    if not success:   \n",
    "        break\n",
    "    # get updated location of objects in subsequent frames\n",
    "    success, boxes = multiTracker.update(frame)\n",
    "    \n",
    "    # draw tracked objects\n",
    "    for i, newbox in enumerate(boxes):\n",
    "        p1 = (int(newbox[0]), int(newbox[1]))\n",
    "        p2 = (int(newbox[0] + newbox[2]), int(newbox[1] + newbox[3]))\n",
    "        cv2.rectangle(frame, p1, p2, colors[i], 2, 1)\n",
    "    \n",
    "    # show frame\n",
    "    cv2.imshow('MultiTracker', frame)\n",
    "    \n",
    "    # quit on ESC button\n",
    "    if cv2.waitKey(1) & 0xFF == 27:  # Esc pressed\n",
    "        break"
   ]
  }
 ],
 "metadata": {
  "kernelspec": {
   "display_name": "Python [conda env:Python3]",
   "language": "python",
   "name": "conda-env-Python3-py"
  },
  "language_info": {
   "codemirror_mode": {
    "name": "ipython",
    "version": 3
   },
   "file_extension": ".py",
   "mimetype": "text/x-python",
   "name": "python",
   "nbconvert_exporter": "python",
   "pygments_lexer": "ipython3",
   "version": "3.6.3"
  }
 },
 "nbformat": 4,
 "nbformat_minor": 2
}
